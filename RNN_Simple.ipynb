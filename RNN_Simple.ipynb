{
  "cells": [
    {
      "cell_type": "markdown",
      "metadata": {
        "id": "view-in-github",
        "colab_type": "text"
      },
      "source": [
        "<a href=\"https://colab.research.google.com/github/santossousa/TRANSFER-NCIA-DE-CONHECIMENTO-PARA-DETEC-O-AUTOM-TICA-DE-FAKE-NEWS-COM-APRENDIZAGEM-PROFUNDA/blob/main/RNN_Simple.ipynb\" target=\"_parent\"><img src=\"https://colab.research.google.com/assets/colab-badge.svg\" alt=\"Open In Colab\"/></a>"
      ]
    },
    {
      "cell_type": "markdown",
      "metadata": {
        "id": "CxGBupB42RpE"
      },
      "source": [
        "\n"
      ]
    },
    {
      "cell_type": "code",
      "execution_count": 96,
      "metadata": {
        "id": "uwPnUOngrq-7"
      },
      "outputs": [],
      "source": [
        "import pandas as pd\n",
        "import numpy as np\n",
        "import matplotlib.pyplot as plt\n",
        "import seaborn as sns\n",
        "from sklearn.model_selection import train_test_split\n",
        "from sklearn.preprocessing import LabelEncoder\n",
        "from keras.models import Model\n",
        "from keras.layers import LSTM, Activation, Dense, Dropout, Input, Embedding\n",
        "#from keras.optimizers import RMSprop\n",
        "from keras.preprocessing.text import Tokenizer\n",
        "from keras.preprocessing import sequence\n",
        "#from keras.utils import to_categorical\n",
        "from keras.callbacks import EarlyStopping\n",
        "from sklearn.model_selection import KFold\n",
        "from keras.models import Sequential\n",
        "from keras.layers import Dense, Dropout, Embedding, LSTM, Bidirectional\n",
        "import itertools\n",
        "\n",
        "from sklearn.metrics import classification_report\n",
        "%matplotlib inline\n",
        "from sklearn.metrics import accuracy_score, confusion_matrix, classification_report"
      ]
    },
    {
      "cell_type": "code",
      "execution_count": 97,
      "metadata": {
        "colab": {
          "base_uri": "https://localhost:8080/",
          "height": 206
        },
        "id": "XM0zM0xPr7nL",
        "outputId": "35445ac1-3a70-446b-cce6-e0d57a3a8448"
      },
      "outputs": [
        {
          "output_type": "execute_result",
          "data": {
            "text/plain": [
              "   index label                                  preprocessed_news\n",
              "0      0  fake  katia abreu diz vai colocar expulsao moldura n...\n",
              "1      1  fake  ray peita bolsonaro conservador fake entrevist...\n",
              "2      2  fake  reinaldo azevedo desmascarado policia federal ...\n",
              "3      3  fake  relatorio assustador bndes mostra dinheiro pub...\n",
              "4      4  fake  radialista americano fala sobre pt vendem ilus..."
            ],
            "text/html": [
              "\n",
              "  <div id=\"df-0228a9a8-ecc8-4484-9837-5571afbf37a0\">\n",
              "    <div class=\"colab-df-container\">\n",
              "      <div>\n",
              "<style scoped>\n",
              "    .dataframe tbody tr th:only-of-type {\n",
              "        vertical-align: middle;\n",
              "    }\n",
              "\n",
              "    .dataframe tbody tr th {\n",
              "        vertical-align: top;\n",
              "    }\n",
              "\n",
              "    .dataframe thead th {\n",
              "        text-align: right;\n",
              "    }\n",
              "</style>\n",
              "<table border=\"1\" class=\"dataframe\">\n",
              "  <thead>\n",
              "    <tr style=\"text-align: right;\">\n",
              "      <th></th>\n",
              "      <th>index</th>\n",
              "      <th>label</th>\n",
              "      <th>preprocessed_news</th>\n",
              "    </tr>\n",
              "  </thead>\n",
              "  <tbody>\n",
              "    <tr>\n",
              "      <th>0</th>\n",
              "      <td>0</td>\n",
              "      <td>fake</td>\n",
              "      <td>katia abreu diz vai colocar expulsao moldura n...</td>\n",
              "    </tr>\n",
              "    <tr>\n",
              "      <th>1</th>\n",
              "      <td>1</td>\n",
              "      <td>fake</td>\n",
              "      <td>ray peita bolsonaro conservador fake entrevist...</td>\n",
              "    </tr>\n",
              "    <tr>\n",
              "      <th>2</th>\n",
              "      <td>2</td>\n",
              "      <td>fake</td>\n",
              "      <td>reinaldo azevedo desmascarado policia federal ...</td>\n",
              "    </tr>\n",
              "    <tr>\n",
              "      <th>3</th>\n",
              "      <td>3</td>\n",
              "      <td>fake</td>\n",
              "      <td>relatorio assustador bndes mostra dinheiro pub...</td>\n",
              "    </tr>\n",
              "    <tr>\n",
              "      <th>4</th>\n",
              "      <td>4</td>\n",
              "      <td>fake</td>\n",
              "      <td>radialista americano fala sobre pt vendem ilus...</td>\n",
              "    </tr>\n",
              "  </tbody>\n",
              "</table>\n",
              "</div>\n",
              "      <button class=\"colab-df-convert\" onclick=\"convertToInteractive('df-0228a9a8-ecc8-4484-9837-5571afbf37a0')\"\n",
              "              title=\"Convert this dataframe to an interactive table.\"\n",
              "              style=\"display:none;\">\n",
              "        \n",
              "  <svg xmlns=\"http://www.w3.org/2000/svg\" height=\"24px\"viewBox=\"0 0 24 24\"\n",
              "       width=\"24px\">\n",
              "    <path d=\"M0 0h24v24H0V0z\" fill=\"none\"/>\n",
              "    <path d=\"M18.56 5.44l.94 2.06.94-2.06 2.06-.94-2.06-.94-.94-2.06-.94 2.06-2.06.94zm-11 1L8.5 8.5l.94-2.06 2.06-.94-2.06-.94L8.5 2.5l-.94 2.06-2.06.94zm10 10l.94 2.06.94-2.06 2.06-.94-2.06-.94-.94-2.06-.94 2.06-2.06.94z\"/><path d=\"M17.41 7.96l-1.37-1.37c-.4-.4-.92-.59-1.43-.59-.52 0-1.04.2-1.43.59L10.3 9.45l-7.72 7.72c-.78.78-.78 2.05 0 2.83L4 21.41c.39.39.9.59 1.41.59.51 0 1.02-.2 1.41-.59l7.78-7.78 2.81-2.81c.8-.78.8-2.07 0-2.86zM5.41 20L4 18.59l7.72-7.72 1.47 1.35L5.41 20z\"/>\n",
              "  </svg>\n",
              "      </button>\n",
              "      \n",
              "  <style>\n",
              "    .colab-df-container {\n",
              "      display:flex;\n",
              "      flex-wrap:wrap;\n",
              "      gap: 12px;\n",
              "    }\n",
              "\n",
              "    .colab-df-convert {\n",
              "      background-color: #E8F0FE;\n",
              "      border: none;\n",
              "      border-radius: 50%;\n",
              "      cursor: pointer;\n",
              "      display: none;\n",
              "      fill: #1967D2;\n",
              "      height: 32px;\n",
              "      padding: 0 0 0 0;\n",
              "      width: 32px;\n",
              "    }\n",
              "\n",
              "    .colab-df-convert:hover {\n",
              "      background-color: #E2EBFA;\n",
              "      box-shadow: 0px 1px 2px rgba(60, 64, 67, 0.3), 0px 1px 3px 1px rgba(60, 64, 67, 0.15);\n",
              "      fill: #174EA6;\n",
              "    }\n",
              "\n",
              "    [theme=dark] .colab-df-convert {\n",
              "      background-color: #3B4455;\n",
              "      fill: #D2E3FC;\n",
              "    }\n",
              "\n",
              "    [theme=dark] .colab-df-convert:hover {\n",
              "      background-color: #434B5C;\n",
              "      box-shadow: 0px 1px 3px 1px rgba(0, 0, 0, 0.15);\n",
              "      filter: drop-shadow(0px 1px 2px rgba(0, 0, 0, 0.3));\n",
              "      fill: #FFFFFF;\n",
              "    }\n",
              "  </style>\n",
              "\n",
              "      <script>\n",
              "        const buttonEl =\n",
              "          document.querySelector('#df-0228a9a8-ecc8-4484-9837-5571afbf37a0 button.colab-df-convert');\n",
              "        buttonEl.style.display =\n",
              "          google.colab.kernel.accessAllowed ? 'block' : 'none';\n",
              "\n",
              "        async function convertToInteractive(key) {\n",
              "          const element = document.querySelector('#df-0228a9a8-ecc8-4484-9837-5571afbf37a0');\n",
              "          const dataTable =\n",
              "            await google.colab.kernel.invokeFunction('convertToInteractive',\n",
              "                                                     [key], {});\n",
              "          if (!dataTable) return;\n",
              "\n",
              "          const docLinkHtml = 'Like what you see? Visit the ' +\n",
              "            '<a target=\"_blank\" href=https://colab.research.google.com/notebooks/data_table.ipynb>data table notebook</a>'\n",
              "            + ' to learn more about interactive tables.';\n",
              "          element.innerHTML = '';\n",
              "          dataTable['output_type'] = 'display_data';\n",
              "          await google.colab.output.renderOutput(dataTable, element);\n",
              "          const docLink = document.createElement('div');\n",
              "          docLink.innerHTML = docLinkHtml;\n",
              "          element.appendChild(docLink);\n",
              "        }\n",
              "      </script>\n",
              "    </div>\n",
              "  </div>\n",
              "  "
            ]
          },
          "metadata": {},
          "execution_count": 97
        }
      ],
      "source": [
        "df = pd.read_csv('https://raw.githubusercontent.com/roneysco/Fake.br-Corpus/master/preprocessed/pre-processed.csv',delimiter=',',encoding='latin-1')\n",
        "df.head()\n"
      ]
    },
    {
      "cell_type": "code",
      "execution_count": 98,
      "metadata": {
        "colab": {
          "base_uri": "https://localhost:8080/",
          "height": 367
        },
        "id": "Y_0sM4nFr8t4",
        "outputId": "e2bfce00-0cdf-4741-881a-617c2d25366f"
      },
      "outputs": [
        {
          "output_type": "stream",
          "name": "stderr",
          "text": [
            "/usr/local/lib/python3.7/dist-packages/seaborn/_decorators.py:43: FutureWarning: Pass the following variable as a keyword arg: x. From version 0.12, the only valid positional argument will be `data`, and passing other arguments without an explicit keyword will result in an error or misinterpretation.\n",
            "  FutureWarning\n"
          ]
        },
        {
          "output_type": "execute_result",
          "data": {
            "text/plain": [
              "Text(0.5, 1.0, 'Number of ham and spam messages')"
            ]
          },
          "metadata": {},
          "execution_count": 98
        },
        {
          "output_type": "display_data",
          "data": {
            "text/plain": [
              "<Figure size 432x288 with 1 Axes>"
            ],
            "image/png": "[encoded data removed]"
          },
          "metadata": {
            "needs_background": "light"
          }
        }
      ],
      "source": [
        "sns.countplot(df.label)\n",
        "plt.xlabel('Label')\n",
        "plt.title('Number of ham and spam messages')\n"
      ]
    },
    {
      "cell_type": "code",
      "execution_count": 99,
      "metadata": {
        "id": "GG0cpPP-sR0w"
      },
      "outputs": [],
      "source": [
        "#df = df.sample(n=1000)"
      ]
    },
    {
      "cell_type": "code",
      "execution_count": 100,
      "metadata": {
        "id": "lXPfKPSOsWVB"
      },
      "outputs": [],
      "source": [
        "df = df.sample(frac=1)"
      ]
    },
    {
      "cell_type": "code",
      "execution_count": 101,
      "metadata": {
        "colab": {
          "base_uri": "https://localhost:8080/",
          "height": 206
        },
        "id": "2VUdqyU09j_u",
        "outputId": "7411fcc9-0ff5-4c6c-b2a5-d0950ce99d8e"
      },
      "outputs": [
        {
          "output_type": "execute_result",
          "data": {
            "text/plain": [
              "      index label                                  preprocessed_news\n",
              "2465   2465  fake  globo tenta entrevistar foliao toma catracada ...\n",
              "3480   3480  fake  seis policiais baleados eua noite ontem caso c...\n",
              "6571   6571  true  chance unica pessoa acertar tres vezes mega vi...\n",
              "6782   6782  true  penitenciaria refinaria inacabadas estao obras...\n",
              "409     409  fake  eua lancam maior bomba nao nuclear mundo redut..."
            ],
            "text/html": [
              "\n",
              "  <div id=\"df-92e955c0-0ed3-40c4-ad84-6c416503c71b\">\n",
              "    <div class=\"colab-df-container\">\n",
              "      <div>\n",
              "<style scoped>\n",
              "    .dataframe tbody tr th:only-of-type {\n",
              "        vertical-align: middle;\n",
              "    }\n",
              "\n",
              "    .dataframe tbody tr th {\n",
              "        vertical-align: top;\n",
              "    }\n",
              "\n",
              "    .dataframe thead th {\n",
              "        text-align: right;\n",
              "    }\n",
              "</style>\n",
              "<table border=\"1\" class=\"dataframe\">\n",
              "  <thead>\n",
              "    <tr style=\"text-align: right;\">\n",
              "      <th></th>\n",
              "      <th>index</th>\n",
              "      <th>label</th>\n",
              "      <th>preprocessed_news</th>\n",
              "    </tr>\n",
              "  </thead>\n",
              "  <tbody>\n",
              "    <tr>\n",
              "      <th>2465</th>\n",
              "      <td>2465</td>\n",
              "      <td>fake</td>\n",
              "      <td>globo tenta entrevistar foliao toma catracada ...</td>\n",
              "    </tr>\n",
              "    <tr>\n",
              "      <th>3480</th>\n",
              "      <td>3480</td>\n",
              "      <td>fake</td>\n",
              "      <td>seis policiais baleados eua noite ontem caso c...</td>\n",
              "    </tr>\n",
              "    <tr>\n",
              "      <th>6571</th>\n",
              "      <td>6571</td>\n",
              "      <td>true</td>\n",
              "      <td>chance unica pessoa acertar tres vezes mega vi...</td>\n",
              "    </tr>\n",
              "    <tr>\n",
              "      <th>6782</th>\n",
              "      <td>6782</td>\n",
              "      <td>true</td>\n",
              "      <td>penitenciaria refinaria inacabadas estao obras...</td>\n",
              "    </tr>\n",
              "    <tr>\n",
              "      <th>409</th>\n",
              "      <td>409</td>\n",
              "      <td>fake</td>\n",
              "      <td>eua lancam maior bomba nao nuclear mundo redut...</td>\n",
              "    </tr>\n",
              "  </tbody>\n",
              "</table>\n",
              "</div>\n",
              "      <button class=\"colab-df-convert\" onclick=\"convertToInteractive('df-92e955c0-0ed3-40c4-ad84-6c416503c71b')\"\n",
              "              title=\"Convert this dataframe to an interactive table.\"\n",
              "              style=\"display:none;\">\n",
              "        \n",
              "  <svg xmlns=\"http://www.w3.org/2000/svg\" height=\"24px\"viewBox=\"0 0 24 24\"\n",
              "       width=\"24px\">\n",
              "    <path d=\"M0 0h24v24H0V0z\" fill=\"none\"/>\n",
              "    <path d=\"M18.56 5.44l.94 2.06.94-2.06 2.06-.94-2.06-.94-.94-2.06-.94 2.06-2.06.94zm-11 1L8.5 8.5l.94-2.06 2.06-.94-2.06-.94L8.5 2.5l-.94 2.06-2.06.94zm10 10l.94 2.06.94-2.06 2.06-.94-2.06-.94-.94-2.06-.94 2.06-2.06.94z\"/><path d=\"M17.41 7.96l-1.37-1.37c-.4-.4-.92-.59-1.43-.59-.52 0-1.04.2-1.43.59L10.3 9.45l-7.72 7.72c-.78.78-.78 2.05 0 2.83L4 21.41c.39.39.9.59 1.41.59.51 0 1.02-.2 1.41-.59l7.78-7.78 2.81-2.81c.8-.78.8-2.07 0-2.86zM5.41 20L4 18.59l7.72-7.72 1.47 1.35L5.41 20z\"/>\n",
              "  </svg>\n",
              "      </button>\n",
              "      \n",
              "  <style>\n",
              "    .colab-df-container {\n",
              "      display:flex;\n",
              "      flex-wrap:wrap;\n",
              "      gap: 12px;\n",
              "    }\n",
              "\n",
              "    .colab-df-convert {\n",
              "      background-color: #E8F0FE;\n",
              "      border: none;\n",
              "      border-radius: 50%;\n",
              "      cursor: pointer;\n",
              "      display: none;\n",
              "      fill: #1967D2;\n",
              "      height: 32px;\n",
              "      padding: 0 0 0 0;\n",
              "      width: 32px;\n",
              "    }\n",
              "\n",
              "    .colab-df-convert:hover {\n",
              "      background-color: #E2EBFA;\n",
              "      box-shadow: 0px 1px 2px rgba(60, 64, 67, 0.3), 0px 1px 3px 1px rgba(60, 64, 67, 0.15);\n",
              "      fill: #174EA6;\n",
              "    }\n",
              "\n",
              "    [theme=dark] .colab-df-convert {\n",
              "      background-color: #3B4455;\n",
              "      fill: #D2E3FC;\n",
              "    }\n",
              "\n",
              "    [theme=dark] .colab-df-convert:hover {\n",
              "      background-color: #434B5C;\n",
              "      box-shadow: 0px 1px 3px 1px rgba(0, 0, 0, 0.15);\n",
              "      filter: drop-shadow(0px 1px 2px rgba(0, 0, 0, 0.3));\n",
              "      fill: #FFFFFF;\n",
              "    }\n",
              "  </style>\n",
              "\n",
              "      <script>\n",
              "        const buttonEl =\n",
              "          document.querySelector('#df-92e955c0-0ed3-40c4-ad84-6c416503c71b button.colab-df-convert');\n",
              "        buttonEl.style.display =\n",
              "          google.colab.kernel.accessAllowed ? 'block' : 'none';\n",
              "\n",
              "        async function convertToInteractive(key) {\n",
              "          const element = document.querySelector('#df-92e955c0-0ed3-40c4-ad84-6c416503c71b');\n",
              "          const dataTable =\n",
              "            await google.colab.kernel.invokeFunction('convertToInteractive',\n",
              "                                                     [key], {});\n",
              "          if (!dataTable) return;\n",
              "\n",
              "          const docLinkHtml = 'Like what you see? Visit the ' +\n",
              "            '<a target=\"_blank\" href=https://colab.research.google.com/notebooks/data_table.ipynb>data table notebook</a>'\n",
              "            + ' to learn more about interactive tables.';\n",
              "          element.innerHTML = '';\n",
              "          dataTable['output_type'] = 'display_data';\n",
              "          await google.colab.output.renderOutput(dataTable, element);\n",
              "          const docLink = document.createElement('div');\n",
              "          docLink.innerHTML = docLinkHtml;\n",
              "          element.appendChild(docLink);\n",
              "        }\n",
              "      </script>\n",
              "    </div>\n",
              "  </div>\n",
              "  "
            ]
          },
          "metadata": {},
          "execution_count": 101
        }
      ],
      "source": [
        "df.head()"
      ]
    },
    {
      "cell_type": "code",
      "execution_count": 102,
      "metadata": {
        "id": "3trtuhu2scG5"
      },
      "outputs": [],
      "source": [
        "X = df.preprocessed_news\n",
        "Y = df.label\n",
        "le = LabelEncoder()\n",
        "Y = le.fit_transform(Y)\n",
        "Y = Y.reshape(-1,1)"
      ]
    },
    {
      "cell_type": "code",
      "execution_count": 103,
      "metadata": {
        "id": "s_Nj7QOAsmo3"
      },
      "outputs": [],
      "source": [
        "X_train,X_test,Y_train,Y_test = train_test_split(X,Y,test_size=0.2)"
      ]
    },
    {
      "cell_type": "code",
      "execution_count": 104,
      "metadata": {
        "id": "8WiFa8qzsrdk"
      },
      "outputs": [],
      "source": [
        "max_words = 10000\n",
        "max_len = 500\n",
        "tok = Tokenizer(num_words=max_words)\n",
        "tok.fit_on_texts(X_train)\n",
        "sequences = tok.texts_to_sequences(X_train)\n",
        "sequences_matrix = sequence.pad_sequences(sequences,maxlen=max_len)\n",
        "\n"
      ]
    },
    {
      "cell_type": "code",
      "execution_count": 105,
      "metadata": {
        "id": "LPE4jWLu5dQj"
      },
      "outputs": [],
      "source": [
        "def plot_confusion_matrix(cm, classes, normalize=False, title='Confusion matrix', cmap=plt.cm.Blues):\n",
        "    \"\"\"\n",
        "    This function prints and plots the confusion matrix.\n",
        "    Normalization can be applied by setting `normalize=True`.\n",
        "    \"\"\"\n",
        "    if normalize:\n",
        "        cm = cm.astype('float') / cm.sum(axis=1)[:, np.newaxis]\n",
        "        print(\"Normalized confusion matrix\")\n",
        "    else:\n",
        "        print('Confusion matrix, without normalization')\n",
        "    print(cm)\n",
        "    plt.imshow(cm, interpolation='nearest', cmap=cmap)\n",
        "    plt.title(title)\n",
        "    plt.colorbar()\n",
        "    tick_marks = np.arange(len(classes))\n",
        "    plt.xticks(tick_marks, classes, rotation=45)\n",
        "    plt.yticks(tick_marks, classes)\n",
        "    fmt = '.2f' if normalize else 'd'\n",
        "    thresh = cm.max() / 2.\n",
        "    for i, j in itertools.product(range(cm.shape[0]), range(cm.shape[1])):\n",
        "        plt.text(j, i, format(cm[i, j], fmt),\n",
        "                 horizontalalignment=\"center\",\n",
        "                 color=\"white\" if cm[i, j] > thresh else \"black\")\n",
        "    plt.tight_layout()\n",
        "    plt.ylabel('True label')\n",
        "    plt.xlabel('Predicted label')"
      ]
    },
    {
      "cell_type": "code",
      "execution_count": 106,
      "metadata": {
        "id": "YPlUWmU-sv5R"
      },
      "outputs": [],
      "source": [
        "def RNN():\n",
        "    inputs = Input(name='inputs',shape=[max_len])\n",
        "    layer = Embedding(max_words,32,input_length=max_len)(inputs)\n",
        "    layer = LSTM(64)(layer)\n",
        "    layer = Dense(256,name='FC1')(layer)\n",
        "    layer = Activation('relu')(layer)\n",
        "    layer = Dropout(0.5)(layer)\n",
        "    layer = Dense(1,name='out_layer')(layer)\n",
        "    layer = Activation('sigmoid')(layer)\n",
        "    model = Model(inputs=inputs,outputs=layer)\n",
        "    return model"
      ]
    },
    {
      "cell_type": "code",
      "execution_count": 107,
      "metadata": {
        "colab": {
          "base_uri": "https://localhost:8080/"
        },
        "id": "AySCgwgZs00e",
        "outputId": "50512da8-09b3-44f6-f7c6-47d01bb2e715"
      },
      "outputs": [
        {
          "output_type": "stream",
          "name": "stdout",
          "text": [
            "Model: \"model_3\"\n",
            "_________________________________________________________________\n",
            " Layer (type)                Output Shape              Param #   \n",
            "=================================================================\n",
            " inputs (InputLayer)         [(None, 500)]             0         \n",
            "                                                                 \n",
            " embedding_7 (Embedding)     (None, 500, 32)           320000    \n",
            "                                                                 \n",
            " lstm_7 (LSTM)               (None, 64)                24832     \n",
            "                                                                 \n",
            " FC1 (Dense)                 (None, 256)               16640     \n",
            "                                                                 \n",
            " activation_6 (Activation)   (None, 256)               0         \n",
            "                                                                 \n",
            " dropout_7 (Dropout)         (None, 256)               0         \n",
            "                                                                 \n",
            " out_layer (Dense)           (None, 1)                 257       \n",
            "                                                                 \n",
            " activation_7 (Activation)   (None, 1)                 0         \n",
            "                                                                 \n",
            "=================================================================\n",
            "Total params: 361,729\n",
            "Trainable params: 361,729\n",
            "Non-trainable params: 0\n",
            "_________________________________________________________________\n"
          ]
        }
      ],
      "source": [
        "model = RNN()\n",
        "model.summary()\n",
        "model.compile(loss='binary_crossentropy',optimizer='adam',metrics=['accuracy'])\n"
      ]
    },
    {
      "cell_type": "code",
      "execution_count": 108,
      "metadata": {
        "id": "1lDqlemDs-wj"
      },
      "outputs": [],
      "source": [
        "#model.fit(sequences_matrix,Y_train,batch_size=128,epochs=7,validation_split=0.2,callbacks=[EarlyStopping(monitor='val_loss',min_delta=0.0001)])\n"
      ]
    },
    {
      "cell_type": "code",
      "source": [
        "kfold = KFold(n_splits=5, shuffle=True)\n",
        "acc_per_fold = []\n",
        "loss_per_fold = []"
      ],
      "metadata": {
        "id": "UgLPF78LL8mq"
      },
      "execution_count": 109,
      "outputs": []
    },
    {
      "cell_type": "code",
      "source": [
        "%time\n",
        "best_model_lstm = None\n",
        "best_acc = 0\n",
        "for k, (train, val) in enumerate(kfold.split(sequences_matrix, Y_train)):\n",
        "  print(\"Fold %d\"%(k+1))\n",
        "  history = model.fit(sequences_matrix[train],Y_train[train],batch_size=32,epochs=7,validation_split=0.2,callbacks=[EarlyStopping(monitor='val_loss',min_delta=0.0001)])\n",
        "\n",
        "  scores = model.evaluate(sequences_matrix[val], Y_train[val], verbose=0)\n",
        "  print(f'Score for fold {k+1}: {model.metrics_names[0]} of {scores[0]}; {model.metrics_names[1]} of {scores[1]}%')\n",
        "  acc_per_fold.append(scores[1])\n",
        "  loss_per_fold.append(scores[0])\n",
        "  if scores[1] > best_acc:\n",
        "    best_model_lstm = model\n",
        "    best_acc = scores[1]\n",
        "\n",
        "\n",
        "  "
      ],
      "metadata": {
        "colab": {
          "base_uri": "https://localhost:8080/"
        },
        "id": "DeuABrUEMRZs",
        "outputId": "164eb96e-468e-4f6f-884b-4f128eee7cef"
      },
      "execution_count": 110,
      "outputs": [
        {
          "output_type": "stream",
          "name": "stdout",
          "text": [
            "CPU times: user 4 µs, sys: 0 ns, total: 4 µs\n",
            "Wall time: 9.06 µs\n",
            "Fold 1\n",
            "Epoch 1/7\n",
            "116/116 [==============================] - 37s 301ms/step - loss: 0.5677 - accuracy: 0.6793 - val_loss: 0.3985 - val_accuracy: 0.8243\n",
            "Epoch 2/7\n",
            "116/116 [==============================] - 35s 298ms/step - loss: 0.1327 - accuracy: 0.9566 - val_loss: 0.2199 - val_accuracy: 0.9306\n",
            "Score for fold 1: loss of 0.17266713082790375; accuracy of 0.9427083134651184%\n",
            "Fold 2\n",
            "Epoch 1/7\n",
            "116/116 [==============================] - 35s 299ms/step - loss: 0.1056 - accuracy: 0.9655 - val_loss: 0.2022 - val_accuracy: 0.9328\n",
            "Epoch 2/7\n",
            "116/116 [==============================] - 35s 298ms/step - loss: 0.0203 - accuracy: 0.9951 - val_loss: 0.4032 - val_accuracy: 0.8926\n",
            "Score for fold 2: loss of 0.12473467737436295; accuracy of 0.9661458134651184%\n",
            "Fold 3\n",
            "Epoch 1/7\n",
            "116/116 [==============================] - 35s 298ms/step - loss: 0.0171 - accuracy: 0.9954 - val_loss: 0.2505 - val_accuracy: 0.9338\n",
            "Epoch 2/7\n",
            "116/116 [==============================] - 35s 300ms/step - loss: 0.0080 - accuracy: 0.9984 - val_loss: 0.3430 - val_accuracy: 0.9295\n",
            "Score for fold 3: loss of 0.07913978397846222; accuracy of 0.9835069179534912%\n",
            "Fold 4\n",
            "Epoch 1/7\n",
            "116/116 [==============================] - 35s 298ms/step - loss: 0.0190 - accuracy: 0.9940 - val_loss: 0.4286 - val_accuracy: 0.8807\n",
            "Epoch 2/7\n",
            "116/116 [==============================] - 34s 297ms/step - loss: 0.0170 - accuracy: 0.9967 - val_loss: 0.3727 - val_accuracy: 0.9121\n",
            "Score for fold 4: loss of 0.07871735841035843; accuracy of 0.984375%\n",
            "Fold 5\n",
            "Epoch 1/7\n",
            "116/116 [==============================] - 34s 296ms/step - loss: 0.0047 - accuracy: 0.9986 - val_loss: 0.4976 - val_accuracy: 0.8894\n",
            "Epoch 2/7\n",
            "116/116 [==============================] - 35s 298ms/step - loss: 0.0021 - accuracy: 0.9997 - val_loss: 0.3868 - val_accuracy: 0.9371\n",
            "Score for fold 5: loss of 0.10313951969146729; accuracy of 0.9835069179534912%\n"
          ]
        }
      ]
    },
    {
      "cell_type": "code",
      "source": [
        "plt.plot(history.history['accuracy'], label='treino accuracy')\n",
        "plt.plot(history.history['val_accuracy'], label='validação accuracy')\n",
        "plt.plot(history.history['loss'], label='treino loss')\n",
        "plt.plot(history.history['val_loss'], label='validação loss')   \n",
        "plt.title('Historico de Treinos')\n",
        "plt.ylabel('Accuracy')\n",
        "plt.xlabel('Epoch')\n",
        "plt.legend()"
      ],
      "metadata": {
        "colab": {
          "base_uri": "https://localhost:8080/",
          "height": 312
        },
        "id": "JnZEy18P4GHK",
        "outputId": "d2cb8f20-caa0-4311-ba90-048ba36c8ded"
      },
      "execution_count": 111,
      "outputs": [
        {
          "output_type": "execute_result",
          "data": {
            "text/plain": [
              "<matplotlib.legend.Legend at 0x7f9b109f9950>"
            ]
          },
          "metadata": {},
          "execution_count": 111
        },
        {
          "output_type": "display_data",
          "data": {
            "text/plain": [
              "<Figure size 432x288 with 1 Axes>"
            ],
            "image/png": "[encoded data removed]"
          },
          "metadata": {
            "needs_background": "light"
          }
        }
      ]
    },
    {
      "cell_type": "code",
      "source": [
        "plt.plot(acc_per_fold, label='treino accuracy')\n",
        "plt.plot(loss_per_fold, label='treino loss')\n",
        "plt.title('Historico de Treinos')\n",
        "plt.ylabel('Accuracy')\n",
        "plt.xlabel('Epoch')\n",
        "plt.legend()"
      ],
      "metadata": {
        "colab": {
          "base_uri": "https://localhost:8080/",
          "height": 312
        },
        "id": "FLpK15-wa_Oc",
        "outputId": "a5fe9275-78d8-4b71-e911-438f934f3e50"
      },
      "execution_count": 133,
      "outputs": [
        {
          "output_type": "execute_result",
          "data": {
            "text/plain": [
              "<matplotlib.legend.Legend at 0x7f9b18b7fc90>"
            ]
          },
          "metadata": {},
          "execution_count": 133
        },
        {
          "output_type": "display_data",
          "data": {
            "text/plain": [
              "<Figure size 432x288 with 1 Axes>"
            ],
            "image/png": "[encoded data removed]"
          },
          "metadata": {
            "needs_background": "light"
          }
        }
      ]
    },
    {
      "cell_type": "code",
      "execution_count": 113,
      "metadata": {
        "id": "L0Ls6fHo3ajx"
      },
      "outputs": [],
      "source": [
        "test_sequences = tok.texts_to_sequences(X_test)\n",
        "test_sequences_matrix = sequence.pad_sequences(test_sequences,maxlen=max_len)\n"
      ]
    },
    {
      "cell_type": "code",
      "execution_count": 114,
      "metadata": {
        "colab": {
          "base_uri": "https://localhost:8080/"
        },
        "id": "Z13xxMaG3dm1",
        "outputId": "4d4687eb-2ec3-4e5d-8615-6718208e71e8"
      },
      "outputs": [
        {
          "output_type": "stream",
          "name": "stdout",
          "text": [
            "45/45 [==============================] - 3s 62ms/step - loss: 0.3663 - accuracy: 0.9410\n"
          ]
        }
      ],
      "source": [
        "accr = best_model_lstm.evaluate(test_sequences_matrix,Y_test)"
      ]
    },
    {
      "cell_type": "code",
      "source": [
        "prediction_ = best_model_lstm.predict(test_sequences_matrix)"
      ],
      "metadata": {
        "id": "PSFkhwWR0YD6"
      },
      "execution_count": 115,
      "outputs": []
    },
    {
      "cell_type": "code",
      "source": [
        "matrix = confusion_matrix(Y_test.argmax(axis=1), prediction_.argmax(axis=1))\n",
        "cnf_matrix_test = confusion_matrix(Y_test, prediction_.round())\n"
      ],
      "metadata": {
        "id": "--TMHbgmEFnK"
      },
      "execution_count": 116,
      "outputs": []
    },
    {
      "cell_type": "code",
      "source": [
        "plt.figure()\n",
        "plot_confusion_matrix(cnf_matrix_test,\n",
        "                      classes=[0,1],\n",
        "                      title='Confusion matrix for LSTM - test')"
      ],
      "metadata": {
        "colab": {
          "base_uri": "https://localhost:8080/",
          "height": 363
        },
        "id": "qRUyfXpdD-bO",
        "outputId": "34385505-760a-4635-846e-5f8d1e38487b"
      },
      "execution_count": 117,
      "outputs": [
        {
          "output_type": "stream",
          "name": "stdout",
          "text": [
            "Confusion matrix, without normalization\n",
            "[[653  57]\n",
            " [ 28 702]]\n"
          ]
        },
        {
          "output_type": "display_data",
          "data": {
            "text/plain": [
              "<Figure size 432x288 with 2 Axes>"
            ],
            "image/png": "[encoded data removed]"
          },
          "metadata": {
            "needs_background": "light"
          }
        }
      ]
    },
    {
      "cell_type": "code",
      "source": [
        "print(classification_report(Y_test, prediction_.round()))\n"
      ],
      "metadata": {
        "colab": {
          "base_uri": "https://localhost:8080/"
        },
        "id": "wL06ubZAgIH1",
        "outputId": "ddd67158-fe77-4ab5-974f-bb77528727da"
      },
      "execution_count": 118,
      "outputs": [
        {
          "output_type": "stream",
          "name": "stdout",
          "text": [
            "              precision    recall  f1-score   support\n",
            "\n",
            "           0       0.96      0.92      0.94       710\n",
            "           1       0.92      0.96      0.94       730\n",
            "\n",
            "    accuracy                           0.94      1440\n",
            "   macro avg       0.94      0.94      0.94      1440\n",
            "weighted avg       0.94      0.94      0.94      1440\n",
            "\n"
          ]
        }
      ]
    },
    {
      "cell_type": "code",
      "execution_count": 118,
      "metadata": {
        "id": "BFcjvS-Q5_6M"
      },
      "outputs": [],
      "source": [
        "\n",
        "\n"
      ]
    },
    {
      "cell_type": "code",
      "execution_count": 119,
      "metadata": {
        "id": "BCYL5ubC6Mw1"
      },
      "outputs": [],
      "source": [
        "n_unique_words = 10000 # cut texts after this number of words\n",
        "maxlen = 500\n",
        "batch_size = 128"
      ]
    },
    {
      "cell_type": "code",
      "execution_count": 119,
      "metadata": {
        "id": "P-13LBW66gjF"
      },
      "outputs": [],
      "source": [
        ""
      ]
    },
    {
      "cell_type": "code",
      "execution_count": 120,
      "metadata": {
        "id": "QzayHuF458UF",
        "colab": {
          "base_uri": "https://localhost:8080/"
        },
        "outputId": "124d8ebb-6dc8-4f58-f82e-7110b030da2f"
      },
      "outputs": [
        {
          "output_type": "stream",
          "name": "stdout",
          "text": [
            "Model: \"sequential_4\"\n",
            "_________________________________________________________________\n",
            " Layer (type)                Output Shape              Param #   \n",
            "=================================================================\n",
            " embedding_8 (Embedding)     (None, 500, 128)          1280000   \n",
            "                                                                 \n",
            " bidirectional_4 (Bidirectio  (None, 128)              98816     \n",
            " nal)                                                            \n",
            "                                                                 \n",
            " dropout_8 (Dropout)         (None, 128)               0         \n",
            "                                                                 \n",
            " dense_4 (Dense)             (None, 1)                 129       \n",
            "                                                                 \n",
            "=================================================================\n",
            "Total params: 1,378,945\n",
            "Trainable params: 1,378,945\n",
            "Non-trainable params: 0\n",
            "_________________________________________________________________\n"
          ]
        }
      ],
      "source": [
        "def BI_LSTM():\n",
        "  model_ = Sequential()\n",
        "  model_.add(Embedding(n_unique_words, 128, input_length=maxlen))\n",
        "  model_.add(Bidirectional(LSTM(64)))\n",
        "  model_.add(Dropout(0.5))\n",
        "  model_.add(Dense(1, activation='sigmoid'))\n",
        "  model_.summary()\n",
        "  return model_\n",
        "model_ = BI_LSTM()\n",
        "model_.compile(loss='binary_crossentropy', optimizer='adam', metrics=['accuracy'])"
      ]
    },
    {
      "cell_type": "code",
      "source": [
        "%time\n",
        "best_model_lstm_bi = None\n",
        "best_acc = 0\n",
        "for k, (train, val) in enumerate(kfold.split(sequences_matrix, Y_train)):\n",
        "  print(\"Fold %d\"%(k+1))\n",
        "  history = model_.fit(sequences_matrix[train],Y_train[train],batch_size=32,epochs=7,validation_split=0.2,callbacks=[EarlyStopping(monitor='val_loss',min_delta=0.0001)])\n",
        "\n",
        "  scores = model_.evaluate(sequences_matrix[val], Y_train[val], verbose=0)\n",
        "  print(f'Score for fold {k+1}: {model_.metrics_names[0]} of {scores[0]}; {model_.metrics_names[1]} of {scores[1]}%')\n",
        "  acc_per_fold.append(scores[1])\n",
        "  loss_per_fold.append(scores[0])\n",
        "  if scores[1] > best_acc:\n",
        "    best_model_lstm_bi = model_\n",
        "    best_acc = scores[1]"
      ],
      "metadata": {
        "colab": {
          "base_uri": "https://localhost:8080/"
        },
        "id": "CDx8dFD5Vr_Z",
        "outputId": "eef5d665-1814-4dd3-bbd1-5f0dc6fd1a2e"
      },
      "execution_count": 121,
      "outputs": [
        {
          "output_type": "stream",
          "name": "stdout",
          "text": [
            "CPU times: user 2 µs, sys: 0 ns, total: 2 µs\n",
            "Wall time: 6.44 µs\n",
            "Fold 1\n",
            "Epoch 1/7\n",
            "116/116 [==============================] - 86s 712ms/step - loss: 0.5603 - accuracy: 0.7610 - val_loss: 0.3578 - val_accuracy: 0.8742\n",
            "Epoch 2/7\n",
            "116/116 [==============================] - 78s 675ms/step - loss: 0.2181 - accuracy: 0.9316 - val_loss: 0.2412 - val_accuracy: 0.9165\n",
            "Score for fold 1: loss of 0.2588765025138855; accuracy of 0.9053819179534912%\n",
            "Fold 2\n",
            "Epoch 1/7\n",
            "116/116 [==============================] - 78s 675ms/step - loss: 0.1494 - accuracy: 0.9547 - val_loss: 0.2812 - val_accuracy: 0.8991\n",
            "Epoch 2/7\n",
            "116/116 [==============================] - 78s 671ms/step - loss: 0.0899 - accuracy: 0.9745 - val_loss: 0.1979 - val_accuracy: 0.9371\n",
            "Score for fold 2: loss of 0.12426339089870453; accuracy of 0.9609375%\n",
            "Fold 3\n",
            "Epoch 1/7\n",
            "116/116 [==============================] - 78s 672ms/step - loss: 0.0767 - accuracy: 0.9805 - val_loss: 0.2569 - val_accuracy: 0.9349\n",
            "Epoch 2/7\n",
            "116/116 [==============================] - 78s 673ms/step - loss: 0.1271 - accuracy: 0.9704 - val_loss: 0.2182 - val_accuracy: 0.9403\n",
            "Score for fold 3: loss of 0.07795871049165726; accuracy of 0.9782986044883728%\n",
            "Fold 4\n",
            "Epoch 1/7\n",
            "116/116 [==============================] - 78s 671ms/step - loss: 0.0520 - accuracy: 0.9862 - val_loss: 0.2315 - val_accuracy: 0.9284\n",
            "Epoch 2/7\n",
            "116/116 [==============================] - 78s 669ms/step - loss: 0.0192 - accuracy: 0.9973 - val_loss: 0.2456 - val_accuracy: 0.9349\n",
            "Score for fold 4: loss of 0.05634937807917595; accuracy of 0.9835069179534912%\n",
            "Fold 5\n",
            "Epoch 1/7\n",
            "116/116 [==============================] - 78s 669ms/step - loss: 0.0197 - accuracy: 0.9948 - val_loss: 0.2467 - val_accuracy: 0.9425\n",
            "Epoch 2/7\n",
            "116/116 [==============================] - 78s 672ms/step - loss: 0.0152 - accuracy: 0.9967 - val_loss: 0.2697 - val_accuracy: 0.9436\n",
            "Score for fold 5: loss of 0.07128410786390305; accuracy of 0.9869791865348816%\n"
          ]
        }
      ]
    },
    {
      "cell_type": "code",
      "source": [
        "plt.plot(history.history['accuracy'], label='treino accuracy')\n",
        "plt.plot(history.history['val_accuracy'], label='validação accuracy')  \n",
        "plt.plot(history.history['loss'], label='treino loss')\n",
        "plt.plot(history.history['val_loss'], label='validação loss')\n",
        "plt.title('Historico de Treinos')\n",
        "plt.ylabel('Accuracy')\n",
        "plt.xlabel('Epoch')\n",
        "plt.legend()"
      ],
      "metadata": {
        "colab": {
          "base_uri": "https://localhost:8080/",
          "height": 312
        },
        "id": "Lw0ttL744WTi",
        "outputId": "8440549c-0973-4b22-85ea-33208eb9e784"
      },
      "execution_count": 122,
      "outputs": [
        {
          "output_type": "execute_result",
          "data": {
            "text/plain": [
              "<matplotlib.legend.Legend at 0x7f9b18dba850>"
            ]
          },
          "metadata": {},
          "execution_count": 122
        },
        {
          "output_type": "display_data",
          "data": {
            "text/plain": [
              "<Figure size 432x288 with 1 Axes>"
            ],
            "image/png": "[encoded data removed]"
          },
          "metadata": {
            "needs_background": "light"
          }
        }
      ]
    },
    {
      "cell_type": "code",
      "execution_count": 123,
      "metadata": {
        "id": "3kSYZs3x6SpN"
      },
      "outputs": [],
      "source": [
        "#history=model_.fit(sequences_matrix,Y_train,batch_size=128,epochs=7,validation_split=0.2,callbacks=[EarlyStopping(monitor='val_loss',min_delta=0.0001)])"
      ]
    },
    {
      "cell_type": "code",
      "execution_count": 124,
      "metadata": {
        "id": "dL53tGp08y92"
      },
      "outputs": [],
      "source": [
        "prediction = best_model_lstm_bi.predict(test_sequences_matrix)"
      ]
    },
    {
      "cell_type": "code",
      "source": [
        "accr = best_model_lstm_bi.evaluate(test_sequences_matrix,Y_test)"
      ],
      "metadata": {
        "colab": {
          "base_uri": "https://localhost:8080/"
        },
        "id": "aSiZG05zzPXP",
        "outputId": "dae679ee-cb4d-49ca-8acf-a1142855c22c"
      },
      "execution_count": 125,
      "outputs": [
        {
          "output_type": "stream",
          "name": "stdout",
          "text": [
            "45/45 [==============================] - 6s 129ms/step - loss: 0.2748 - accuracy: 0.9410\n"
          ]
        }
      ]
    },
    {
      "cell_type": "code",
      "source": [
        "matrix = confusion_matrix(Y_test.argmax(axis=1), prediction.argmax(axis=1))"
      ],
      "metadata": {
        "id": "W4idaM8z00Fn"
      },
      "execution_count": 126,
      "outputs": []
    },
    {
      "cell_type": "code",
      "source": [
        "cnf_matrix_test = confusion_matrix(Y_test, prediction.round())\n",
        "print(cnf_matrix_test)"
      ],
      "metadata": {
        "colab": {
          "base_uri": "https://localhost:8080/"
        },
        "id": "vkeBrKDC1kP5",
        "outputId": "1c80ed7c-7c3b-4d5f-83ec-66ef8a1f0e41"
      },
      "execution_count": 127,
      "outputs": [
        {
          "output_type": "stream",
          "name": "stdout",
          "text": [
            "[[660  50]\n",
            " [ 35 695]]\n"
          ]
        }
      ]
    },
    {
      "cell_type": "code",
      "source": [
        "import itertools"
      ],
      "metadata": {
        "id": "JBElGGX425ih"
      },
      "execution_count": 128,
      "outputs": []
    },
    {
      "cell_type": "code",
      "source": [
        "plt.figure()\n",
        "plot_confusion_matrix(cnf_matrix_test,\n",
        "                      classes=[0,1],\n",
        "                      title='Confusion matrix for BI-LSTM - test')"
      ],
      "metadata": {
        "colab": {
          "base_uri": "https://localhost:8080/",
          "height": 363
        },
        "id": "ICf8Y_dk2Cle",
        "outputId": "71af7be2-41e3-4649-945b-51d6ee01cbeb"
      },
      "execution_count": 129,
      "outputs": [
        {
          "output_type": "stream",
          "name": "stdout",
          "text": [
            "Confusion matrix, without normalization\n",
            "[[660  50]\n",
            " [ 35 695]]\n"
          ]
        },
        {
          "output_type": "display_data",
          "data": {
            "text/plain": [
              "<Figure size 432x288 with 2 Axes>"
            ],
            "image/png": "[encoded data removed]"
          },
          "metadata": {
            "needs_background": "light"
          }
        }
      ]
    },
    {
      "cell_type": "code",
      "execution_count": 130,
      "metadata": {
        "colab": {
          "base_uri": "https://localhost:8080/"
        },
        "id": "M_nX9oy79Lx4",
        "outputId": "33038cd6-fc76-44b2-da07-2309763c7f10"
      },
      "outputs": [
        {
          "output_type": "stream",
          "name": "stdout",
          "text": [
            "              precision    recall  f1-score   support\n",
            "\n",
            "           0       0.95      0.93      0.94       710\n",
            "           1       0.93      0.95      0.94       730\n",
            "\n",
            "    accuracy                           0.94      1440\n",
            "   macro avg       0.94      0.94      0.94      1440\n",
            "weighted avg       0.94      0.94      0.94      1440\n",
            "\n"
          ]
        }
      ],
      "source": [
        "print(classification_report(Y_test, prediction.round()))\n"
      ]
    },
    {
      "cell_type": "code",
      "source": [
        "from keras.utils.vis_utils import plot_model\n",
        "plot_model(model_, to_file='model.png')"
      ],
      "metadata": {
        "colab": {
          "base_uri": "https://localhost:8080/",
          "height": 466
        },
        "id": "-uO6e95mZflH",
        "outputId": "818f5839-7614-4858-b05d-2be34b589376"
      },
      "execution_count": 131,
      "outputs": [
        {
          "output_type": "execute_result",
          "data": {
            "text/plain": [
              "<IPython.core.display.Image object>"
            ],
            "image/png": "[encoded data removed]"
          },
          "metadata": {},
          "execution_count": 131
        }
      ]
    },
    {
      "cell_type": "code",
      "source": [
        "from keras.utils.vis_utils import plot_model\n",
        "plot_model(model, to_file='model.png')"
      ],
      "metadata": {
        "id": "UAGNVmD7Q0Qt",
        "outputId": "9976c387-9e8a-447a-8d9f-0bdd685bfd77",
        "colab": {
          "base_uri": "https://localhost:8080/",
          "height": 758
        }
      },
      "execution_count": 132,
      "outputs": [
        {
          "output_type": "execute_result",
          "data": {
            "text/plain": [
              "<IPython.core.display.Image object>"
            ],
            "image/png": "[encoded data removed]"
          },
          "metadata": {},
          "execution_count": 132
        }
      ]
    },
    {
      "cell_type": "markdown",
      "metadata": {
        "id": "HwmnhPhKbITz"
      },
      "source": [
        ""
      ]
    }
  ],
  "metadata": {
    "accelerator": "TPU",
    "colab": {
      "collapsed_sections": [],
      "name": "RNN_Simple.ipynb",
      "provenance": [],
      "authorship_tag": "ABX9TyN8IKvflC+B6parTP6RVzUW",
      "include_colab_link": true
    },
    "kernelspec": {
      "display_name": "Python 3",
      "name": "python3"
    },
    "language_info": {
      "name": "python"
    }
  },
  "nbformat": 4,
  "nbformat_minor": 0
}